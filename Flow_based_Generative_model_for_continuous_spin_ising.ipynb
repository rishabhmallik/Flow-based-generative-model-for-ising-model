{
  "cells": [
    {
      "cell_type": "code",
      "execution_count": 6,
      "metadata": {
        "colab": {
          "base_uri": "https://localhost:8080/"
        },
        "id": "gOyBQlXXjtH1",
        "outputId": "49dd3282-7e9a-47c3-d573-d0e755591ba1"
      },
      "outputs": [
        {
          "output_type": "stream",
          "name": "stdout",
          "text": [
            "TORCH VERSION: 1.11.0+cu113\n"
          ]
        }
      ],
      "source": [
        "import base64\n",
        "import io\n",
        "import pickle\n",
        "import numpy as np\n",
        "import torch\n",
        "print(f'TORCH VERSION: {torch.__version__}')\n",
        "import packaging.version\n",
        "if packaging.version.parse(torch.__version__) < packaging.version.parse('1.5.0'):\n",
        "  raise RuntimeError('Torch versions lower than 1.5.0 not supported')\n",
        "%matplotlib inline\n",
        "import matplotlib.pyplot as plt\n",
        "import seaborn as sns\n",
        "sns.set_style('whitegrid')"
      ]
    },
    {
      "cell_type": "code",
      "execution_count": 7,
      "metadata": {
        "colab": {
          "base_uri": "https://localhost:8080/"
        },
        "id": "LIXWboUcoTvI",
        "outputId": "f2aed038-1910-461c-e427-652bf56bf877"
      },
      "outputs": [
        {
          "output_type": "stream",
          "name": "stdout",
          "text": [
            "TORCH DEVICE: cpu\n"
          ]
        }
      ],
      "source": [
        "if torch.cuda.is_available():\n",
        "  torch_device = 'cuda'\n",
        "  float_dtype = np.float32 # single\n",
        "  torch.set_default_tensor_type(torch.cuda.FloatTensor)\n",
        "else:\n",
        "  torch_device = 'cpu'\n",
        "  float_dtype = np.float64 # double\n",
        "  torch.set_default_tensor_type(torch.DoubleTensor)\n",
        "print(f\"TORCH DEVICE: {torch_device}\")"
      ]
    },
    {
      "cell_type": "markdown",
      "metadata": {
        "id": "eg6vDMHuovSz"
      },
      "source": [
        "Often we want to detach tensors from the computational graph and pull them to the CPU as a numpy\n",
        "array."
      ]
    },
    {
      "cell_type": "code",
      "execution_count": 8,
      "metadata": {
        "id": "5lpcZFPPoruW"
      },
      "outputs": [],
      "source": [
        "def torch_mod(x):\n",
        "  return torch.remainder(x, 2*np.pi)\n",
        "def torch_wrap(x):\n",
        "  return torch_mod(x+np.pi) - np.pi"
      ]
    },
    {
      "cell_type": "markdown",
      "metadata": {
        "id": "lmfrgTKpp7Qi"
      },
      "source": [
        "Often we want to detach tensors from the computational graph and pull them to the CPU as a numpy\n",
        "array."
      ]
    },
    {
      "cell_type": "code",
      "execution_count": 9,
      "metadata": {
        "id": "opnzTJNEp_DY"
      },
      "outputs": [],
      "source": [
        "def grab(var):\n",
        "  return var.detach().cpu().numpy()"
      ]
    },
    {
      "cell_type": "markdown",
      "metadata": {
        "id": "LgZuoF8UqCq8"
      },
      "source": [
        "The code below makes a live-updating plot during training."
      ]
    },
    {
      "cell_type": "code",
      "execution_count": 10,
      "metadata": {
        "id": "EbxyAAU2qId3"
      },
      "outputs": [],
      "source": [
        "from IPython.display import display\n",
        "def init_live_plot(dpi=125, figsize=(8,4)):\n",
        "  fig, ax_ess = plt.subplots(1,1, dpi=dpi, figsize=figsize)\n",
        "  plt.xlim(0, N_era*N_epoch)\n",
        "  plt.ylim(0, 1)\n",
        "  ess_line = plt.plot([0],[0], alpha=0.5) # dummy\n",
        "  plt.grid(False)\n",
        "  plt.ylabel('ESS')\n",
        "  ax_loss = ax_ess.twinx()\n",
        "  loss_line = plt.plot([0],[0], alpha=0.5, c='orange') # dummy\n",
        "  plt.grid(False)\n",
        "  plt.ylabel('Loss')\n",
        "  plt.xlabel('Epoch')\n",
        "  display_id = display(fig, display_id=True)\n",
        "  return dict(\n",
        "    fig=fig, ax_ess=ax_ess, ax_loss=ax_loss,\n",
        "    ess_line=ess_line, loss_line=loss_line,\n",
        "    display_id=display_id\n",
        "  )\n",
        "def moving_average(x, window=10):\n",
        "  if len(x) < window:\n",
        "    return np.mean(x, keepdims=True)\n",
        "  else:\n",
        "    return np.convolve(x, np.ones(window), 'valid') / window\n",
        "\n",
        "def update_plots(history, fig, ax_ess, ax_loss, ess_line, loss_line, display_id):\n",
        "  Y = np.array(history['ess'])\n",
        "  Y = moving_average(Y, window=15)\n",
        "  ess_line[0].set_ydata(Y)\n",
        "  ess_line[0].set_xdata(np.arange(len(Y)))\n",
        "  Y = history['loss']\n",
        "  Y = moving_average(Y, window=15)\n",
        "  loss_line[0].set_ydata(np.array(Y))\n",
        "  loss_line[0].set_xdata(np.arange(len(Y)))\n",
        "  ax_loss.relim()\n",
        "  ax_loss.autoscale_view()\n",
        "  fig.canvas.draw()\n",
        "  display_id.update(fig) # need to force colab to update plot"
      ]
    },
    {
      "cell_type": "markdown",
      "metadata": {
        "id": "nxwFpBzjrCNC"
      },
      "source": [
        "Prior distribution"
      ]
    },
    {
      "cell_type": "code",
      "execution_count": 11,
      "metadata": {
        "id": "gwebDeOcqxN8"
      },
      "outputs": [],
      "source": [
        "class Uniformdist:\n",
        "  def __init__(self, loc, var):\n",
        "    self.dist = torch.distributions.uniform.Uniform(\n",
        "      torch.flatten(loc), torch.flatten(var))\n",
        "    self.shape = loc.shape\n",
        "  def log_prob(self, x):\n",
        "    logp = self.dist.log_prob(x.reshape(x.shape[0], -1))\n",
        "    return torch.sum(logp, dim=1)\n",
        "  def sample_n(self, batch_size):\n",
        "    x = self.dist.sample((batch_size,))\n",
        "    return x.reshape(batch_size, *self.shape)"
      ]
    },
    {
      "cell_type": "markdown",
      "metadata": {
        "id": "6kD7YYfvrMEm"
      },
      "source": [
        "The shape of loc and var determine the shape of samples drawn."
      ]
    },
    {
      "cell_type": "markdown",
      "metadata": {
        "id": "-9i2TNvttOW8"
      },
      "source": [
        "Design coupling layers"
      ]
    },
    {
      "cell_type": "code",
      "execution_count": 12,
      "metadata": {
        "id": "GNohs3J9uUDS"
      },
      "outputs": [],
      "source": [
        "def apply_flow_to_prior(prior, coupling_layers, *, batch_size):\n",
        "  x = prior.sample_n(batch_size)\n",
        "  logq = prior.log_prob(x)\n",
        "  for layer in coupling_layers:\n",
        "    x, logJ = layer.forward(x)\n",
        "    logq = logq - logJ\n",
        "  return x, logq"
      ]
    },
    {
      "cell_type": "code",
      "execution_count": 13,
      "metadata": {
        "id": "EQ0c5CGhulZd"
      },
      "outputs": [],
      "source": [
        "class IsingAction:\n",
        "  def __init__(self, K):\n",
        "    self.K = K\n",
        "    #self.lam = lam\n",
        "  def __call__(self, cfgs):\n",
        "    action_density = 0\n",
        "    \n",
        "    Nd = len(cfgs.shape)-1\n",
        "    dims = range(1,Nd+1)\n",
        "    for mu in dims:\n",
        "      action_density -= self.K*cfgs*torch.roll(cfgs, 1, mu)\n",
        "    return torch.sum(action_density, dim=tuple(dims))\n"
      ]
    },
    {
      "cell_type": "code",
      "source": [
        "lattice_shape = (8,8)"
      ],
      "metadata": {
        "id": "mJ-hQaaStjFv"
      },
      "execution_count": 15,
      "outputs": []
    },
    {
      "cell_type": "markdown",
      "metadata": {
        "id": "n364d4jH5rYG"
      },
      "source": [
        "Prior distributions"
      ]
    },
    {
      "cell_type": "code",
      "execution_count": 17,
      "metadata": {
        "id": "NkHg97XS5qI9"
      },
      "outputs": [],
      "source": [
        "prior = Uniformdist(-1*torch.ones(lattice_shape), torch.ones(lattice_shape))"
      ]
    },
    {
      "cell_type": "code",
      "execution_count": 18,
      "metadata": {
        "colab": {
          "base_uri": "https://localhost:8080/",
          "height": 436
        },
        "id": "ri6a1VLF5xXs",
        "outputId": "bca31894-7ae3-428d-ffba-f186f37c4ce1"
      },
      "outputs": [
        {
          "output_type": "stream",
          "name": "stdout",
          "text": [
            "z.shape = (1024, 8, 8)\n"
          ]
        },
        {
          "output_type": "display_data",
          "data": {
            "text/plain": [
              "<Figure size 500x500 with 16 Axes>"
            ],
            "image/png": "[encoded data removed]"
          },
          "metadata": {}
        }
      ],
      "source": [
        "torch_z = prior.sample_n(1024)\n",
        "z = grab(torch_z)\n",
        "print(f'z.shape = {z.shape}')\n",
        "fig, ax = plt.subplots(4,4, dpi=125, figsize=(4,4))\n",
        "for i in range(4):\n",
        "  for j in range(4):\n",
        "    ind = i*4 + j\n",
        "    ax[i,j].imshow(np.tanh(z[ind]), vmin=-1, vmax=1, cmap='viridis')\n",
        "    ax[i,j].axes.xaxis.set_visible(False)\n",
        "    ax[i,j].axes.yaxis.set_visible(False)\n",
        "plt.show()"
      ]
    },
    {
      "cell_type": "code",
      "execution_count": 19,
      "metadata": {
        "colab": {
          "base_uri": "https://localhost:8080/"
        },
        "id": "RR9xnPRN6ZJf",
        "outputId": "98ed8a88-fbfc-4251-8e9e-6c74a5d00131"
      },
      "outputs": [
        {
          "output_type": "stream",
          "name": "stdout",
          "text": [
            "For example this is the mask for an 8x8 configuration:\n",
            " tensor([[0, 1, 0, 1, 0, 1, 0, 1],\n",
            "        [1, 0, 1, 0, 1, 0, 1, 0],\n",
            "        [0, 1, 0, 1, 0, 1, 0, 1],\n",
            "        [1, 0, 1, 0, 1, 0, 1, 0],\n",
            "        [0, 1, 0, 1, 0, 1, 0, 1],\n",
            "        [1, 0, 1, 0, 1, 0, 1, 0],\n",
            "        [0, 1, 0, 1, 0, 1, 0, 1],\n",
            "        [1, 0, 1, 0, 1, 0, 1, 0]], dtype=torch.uint8)\n"
          ]
        }
      ],
      "source": [
        "def make_checker_mask(shape, parity):\n",
        "  checker = torch.ones(shape, dtype=torch.uint8) - parity\n",
        "  checker[::2, ::2] = parity\n",
        "  checker[1::2, 1::2] = parity\n",
        "  return checker.to(torch_device)\n",
        "print(\"For example this is the mask for an 8x8 configuration:\\n\",\n",
        "make_checker_mask((8,8), 0))"
      ]
    },
    {
      "cell_type": "code",
      "source": [
        "x=np.linspace(-10,10,100)\n",
        "y=np.tanh(x)\n",
        "y1=1/(1+np.exp(-x))*2-1\n",
        "plt.plot(x,y,label='tanh(x)')\n",
        "plt.plot(x,y1,label='sigmoid(x)')\n",
        "plt.legend(loc=\"upper left\")\n",
        "plt.show()"
      ],
      "metadata": {
        "colab": {
          "base_uri": "https://localhost:8080/",
          "height": 265
        },
        "id": "w_bnF8hCPwT5",
        "outputId": "d59e32a7-3f1a-46ad-e718-5b56f734dc5e"
      },
      "execution_count": 20,
      "outputs": [
        {
          "output_type": "display_data",
          "data": {
            "text/plain": [
              "<Figure size 432x288 with 1 Axes>"
            ],
            "image/png": "[encoded data removed]"
          },
          "metadata": {}
        }
      ]
    },
    {
      "cell_type": "code",
      "execution_count": 21,
      "metadata": {
        "id": "NTzNWQKR9JIg"
      },
      "outputs": [],
      "source": [
        "class AffineCoupling(torch.nn.Module):\n",
        "  def __init__(self, net, *, mask_shape, mask_parity, final_layer):\n",
        "    super().__init__()\n",
        "    self.mask = make_checker_mask(mask_shape, mask_parity)\n",
        "    self.net = net\n",
        "    self.final_layer = final_layer\n",
        "  def forward(self, x):\n",
        "    x_frozen = self.mask * x\n",
        "    x_active = (1 - self.mask) * x\n",
        "    net_out = self.net(x_frozen.unsqueeze(1))\n",
        "    s, t = net_out[:,0], net_out[:,1]\n",
        "    axes = range(1,len(s.size()))\n",
        "    fx = x\n",
        "    logJ = 0\n",
        "    \n",
        "    if (self.final_layer == True):\n",
        "      fx = (1 - self.mask) * torch.tanh(t + x * torch.exp(s)) + x_frozen\n",
        "      logJ = torch.sum((1 - self.mask) * (s - 2*torch.log(torch.cosh(t + x * torch.exp(s)))), dim=tuple(axes))\n",
        "      \n",
        "    else:\n",
        "      fx = (1 - self.mask) * t + x_active * torch.exp(s) + x_frozen\n",
        "      logJ = torch.sum((1 - self.mask) * s, dim=tuple(axes))\n",
        "      \n",
        "    return fx, logJ\n",
        "  def reverse(self, fx):\n",
        "    fx_frozen = self.mask * fx \n",
        "    fx_active = (1 - self.mask) * fx\n",
        "    net_out = self.net(fx_frozen.unsqueeze(1))\n",
        "    s, t = net_out[:,0], net_out[:,1]\n",
        "    axes = range(1,len(s.size()))\n",
        "    if (self.final_layer):\n",
        "      \n",
        "      x = (1 - self.mask) * (torch.atanh(fx) - t) * torch.exp(-s) + fx_frozen\n",
        "      logJ = torch.sum((1 - self.mask)*(-s + 2*torch.log(torch.cosh(t + x * torch.exp(s)))), dim=tuple(axes))\n",
        "    else:\n",
        "      x = (fx_active - (1 - self.mask) * t) * torch.exp(-s) + fx_frozen\n",
        "      logJ = torch.sum((1 - self.mask)*(-s), dim=tuple(axes))\n",
        "    return x, logJ\n"
      ]
    },
    {
      "cell_type": "code",
      "execution_count": 22,
      "metadata": {
        "id": "ulr-HVVk9oSX"
      },
      "outputs": [],
      "source": [
        "def make_conv_net(*, hidden_sizes, kernel_size, in_channels, out_channels, use_final_tanh):\n",
        "  sizes = [in_channels] + hidden_sizes + [out_channels]\n",
        "  assert packaging.version.parse(torch.__version__) >= packaging.version.parse('1.5.0')\n",
        "  assert kernel_size % 2 == 1, 'kernel size must be odd for PyTorch >= 1.5.0'\n",
        "  padding_size = (kernel_size // 2)\n",
        "  net = []\n",
        "  for i in range(len(sizes) - 1):\n",
        "    net.append(torch.nn.Conv2d(\n",
        "      sizes[i], sizes[i+1], kernel_size, padding=padding_size,\n",
        "      stride=1, padding_mode='circular'))\n",
        "    if i != len(sizes) - 2:\n",
        "      net.append(torch.nn.LeakyReLU())\n",
        "    else:\n",
        "      if use_final_tanh:\n",
        "        net.append(torch.nn.Tanh())\n",
        "  return torch.nn.Sequential(*net)"
      ]
    },
    {
      "cell_type": "markdown",
      "metadata": {
        "id": "ItMIbd5DAH9I"
      },
      "source": [
        "Assembling the model"
      ]
    },
    {
      "cell_type": "code",
      "execution_count": 23,
      "metadata": {
        "id": "hnbUBGi0ALp-"
      },
      "outputs": [],
      "source": [
        "from typing_extensions import Final\n",
        "def make_ising_affine_layers(*, n_layers, lattice_shape, hidden_sizes, kernel_size):\n",
        "  layers = []\n",
        "  for i in range(n_layers):\n",
        "    parity = i % 2\n",
        "    if i == n_layers-1 or i == n_layers-2:\n",
        "      final_layer = True\n",
        "    else:\n",
        "      final_layer = False\n",
        "    net = make_conv_net(\n",
        "      in_channels=1, out_channels=2, hidden_sizes=hidden_sizes,\n",
        "      kernel_size=kernel_size, use_final_tanh=True)\n",
        "    coupling = AffineCoupling(net, mask_shape=lattice_shape, mask_parity=parity, final_layer=final_layer)\n",
        "    layers.append(coupling)\n",
        "  return torch.nn.ModuleList(layers)"
      ]
    },
    {
      "cell_type": "code",
      "execution_count": 24,
      "metadata": {
        "id": "w8KYr943AgMq"
      },
      "outputs": [],
      "source": [
        "L = 8\n",
        "n_layers = 16\n",
        "hidden_sizes = [8,8]\n",
        "kernel_size = 3\n",
        "lattice_shape = (L,L)\n",
        "layers = make_ising_affine_layers(\n",
        "  lattice_shape=lattice_shape, n_layers=n_layers,\n",
        "  hidden_sizes=hidden_sizes, kernel_size=kernel_size)\n",
        "model = {'layers': layers, 'prior': prior}"
      ]
    },
    {
      "cell_type": "markdown",
      "metadata": {
        "id": "Q1XvWTtAA1BE"
      },
      "source": [
        "Training the model"
      ]
    },
    {
      "cell_type": "code",
      "execution_count": 25,
      "metadata": {
        "id": "LLB-WQwYAzjg"
      },
      "outputs": [],
      "source": [
        "def calc_dkl(logp, logq):\n",
        "  return (logq - logp).mean() # reverse KL, assuming samples from "
      ]
    },
    {
      "cell_type": "code",
      "execution_count": 26,
      "metadata": {
        "id": "VNdmlho3A8Uz"
      },
      "outputs": [],
      "source": [
        "def train_step(model, action, loss_fn, optimizer, metrics):\n",
        "  layers, prior = model['layers'], model['prior']\n",
        "  optimizer.zero_grad()\n",
        "  x, logq = apply_flow_to_prior(prior, layers, batch_size=batch_size)\n",
        "  logp = -action(x)\n",
        "  #print(logp)\n",
        "  loss = calc_dkl(logp, logq)\n",
        "  loss.backward()\n",
        "  optimizer.step()\n",
        "  metrics['loss'].append(grab(loss))\n",
        "  metrics['logp'].append(grab(logp))\n",
        "  metrics['logq'].append(grab(logq))\n",
        "  metrics['ess'].append(grab( compute_ess(logp, logq) ))"
      ]
    },
    {
      "cell_type": "markdown",
      "metadata": {
        "id": "4XaHbWGRCEBM"
      },
      "source": [
        "Telemetry"
      ]
    },
    {
      "cell_type": "code",
      "execution_count": 27,
      "metadata": {
        "id": "4pbAo_nkBC-h"
      },
      "outputs": [],
      "source": [
        "def compute_ess(logp, logq):\n",
        "  logw = logp - logq\n",
        "  log_ess = 2*torch.logsumexp(logw, dim=0) - torch.logsumexp(2*logw, dim=0)\n",
        "  ess_per_cfg = torch.exp(log_ess) / len(logw)\n",
        "  return ess_per_cfg"
      ]
    },
    {
      "cell_type": "code",
      "execution_count": 28,
      "metadata": {
        "id": "jQig9ULoCHgr"
      },
      "outputs": [],
      "source": [
        "def print_metrics(history, avg_last_N_epochs):\n",
        "  print(f'== Era {era} | Epoch {epoch} metrics ==')\n",
        "  for key, val in history.items():\n",
        "    avgd = np.mean(val[-avg_last_N_epochs:])\n",
        "    print(f'\\t{key} {avgd:g}')"
      ]
    },
    {
      "cell_type": "markdown",
      "metadata": {
        "id": "l_QB6iFOCYbP"
      },
      "source": [
        "The training"
      ]
    },
    {
      "cell_type": "code",
      "execution_count": 29,
      "metadata": {
        "id": "Owh_8fqNCaaL"
      },
      "outputs": [],
      "source": [
        "use_trained = True"
      ]
    },
    {
      "cell_type": "code",
      "execution_count": 30,
      "metadata": {
        "id": "HRNIByCjg8yO"
      },
      "outputs": [],
      "source": [
        "N_era = 12\n",
        "N_epoch = 100\n",
        "batch_size = 64\n",
        "print_freq = N_epoch\n",
        "plot_freq = 1\n",
        "history = {\n",
        "  'loss' : [],\n",
        "  'logp' : [],\n",
        "  'logq' : [],\n",
        "  'ess' : []\n",
        "}\n"
      ]
    },
    {
      "cell_type": "code",
      "source": [
        "K_vals = np.concatenate((np.linspace(0.1, 0.43 , 5),np.linspace(0.46,1.5,5)),axis=0 )\n",
        "print (K_vals)"
      ],
      "metadata": {
        "colab": {
          "base_uri": "https://localhost:8080/"
        },
        "id": "0b_8x8ikTDOA",
        "outputId": "b7edc968-086d-4209-e068-38bf9d12eac2"
      },
      "execution_count": 31,
      "outputs": [
        {
          "output_type": "stream",
          "name": "stdout",
          "text": [
            "[0.1    0.1825 0.265  0.3475 0.43   0.46   0.72   0.98   1.24   1.5   ]\n"
          ]
        }
      ]
    },
    {
      "cell_type": "code",
      "execution_count": 32,
      "metadata": {
        "colab": {
          "base_uri": "https://localhost:8080/"
        },
        "id": "PuiqbnTpCvGC",
        "outputId": "6cb2e462-1cc5-4bae-cba8-90b319fd387c"
      },
      "outputs": [
        {
          "output_type": "stream",
          "name": "stdout",
          "text": [
            "Training skipped, using pretrained models!!\n"
          ]
        }
      ],
      "source": [
        "if not use_trained:\n",
        "  for K in K_vals:\n",
        "    [plt.close(plt.figure(fignum)) for fignum in plt.get_fignums()] # close all existing figures\n",
        "    live_plot = init_live_plot()\n",
        "    \n",
        "    ising_action = IsingAction(K = K)\n",
        "    prior = Uniformdist(-1*torch.ones(lattice_shape), torch.ones(lattice_shape))\n",
        "    layers = make_ising_affine_layers(lattice_shape=lattice_shape, n_layers=n_layers,\n",
        "      hidden_sizes=hidden_sizes, kernel_size=kernel_size)\n",
        "    model = {'layers': layers, 'prior': prior}\n",
        "    \n",
        "    base_lr = .01\n",
        "    optimizer = torch.optim.Adam(model['layers'].parameters(), lr=base_lr)\n",
        "\n",
        "    for era in range(N_era):\n",
        "      for epoch in range(N_epoch):\n",
        "        train_step(model, ising_action, calc_dkl, optimizer, history)\n",
        "        if epoch % print_freq == 0:\n",
        "          print_metrics(history, avg_last_N_epochs=print_freq)\n",
        "        if epoch % plot_freq == 0:\n",
        "          update_plots(history, **live_plot)\n",
        "    torch.save(model['layers'].state_dict(), f'K_{K}.pt')\n",
        "else:\n",
        "  print('Training skipped, using pretrained models!!')"
      ]
    },
    {
      "cell_type": "code",
      "source": [
        "def magnetization(x):\n",
        "  M = np.zeros(len(x))\n",
        "  for i in range(len(M)):\n",
        "    M[i] = np.abs(np.mean(x[i]))\n",
        "  return np.mean(M)"
      ],
      "metadata": {
        "id": "fE1ZkeW_MDeo"
      },
      "execution_count": 33,
      "outputs": []
    },
    {
      "cell_type": "code",
      "source": [
        "m = []\n",
        "for K in K_vals:\n",
        "  ising_action = IsingAction(K = K)\n",
        "  prior = Uniformdist(-1*torch.ones(lattice_shape), torch.ones(lattice_shape))\n",
        "  layers = make_ising_affine_layers(lattice_shape=lattice_shape, n_layers=n_layers,\n",
        "    hidden_sizes=hidden_sizes, kernel_size=kernel_size)\n",
        "  model = {'layers': layers, 'prior': prior}\n",
        "  \n",
        "  model['layers'].load_state_dict(torch.load(f'K_{K}.pt'))\n",
        "  torch_x, torch_logq = apply_flow_to_prior(prior, layers, batch_size=1024)\n",
        "  x = grab(torch_x)\n",
        "  \n",
        "  m.append(magnetization(x))\n",
        "\n",
        "plt.xlabel(r'$J/(k_{B}T)$')\n",
        "plt.ylabel('magnetization (m)')\n",
        "plt.plot(K_vals, m)"
      ],
      "metadata": {
        "id": "lCsKaHzYK3zS",
        "colab": {
          "base_uri": "https://localhost:8080/",
          "height": 300
        },
        "outputId": "e9de228a-6e00-4dc4-fb1f-a02e96f471db"
      },
      "execution_count": 37,
      "outputs": [
        {
          "output_type": "execute_result",
          "data": {
            "text/plain": [
              "[<matplotlib.lines.Line2D at 0x7fe03c433650>]"
            ]
          },
          "metadata": {},
          "execution_count": 37
        },
        {
          "output_type": "display_data",
          "data": {
            "text/plain": [
              "<Figure size 432x288 with 1 Axes>"
            ],
            "image/png": "[encoded data removed]"
          },
          "metadata": {}
        }
      ]
    },
    {
      "cell_type": "code",
      "execution_count": 35,
      "metadata": {
        "id": "ri7GW3deSfd9",
        "colab": {
          "base_uri": "https://localhost:8080/",
          "height": 70
        },
        "outputId": "e309bef7-e598-42f9-835a-4dbc1040340a"
      },
      "outputs": [
        {
          "output_type": "execute_result",
          "data": {
            "text/plain": [
              "\"\\ntorch_x, torch_logq = apply_flow_to_prior(prior, layers, batch_size=1024)\\nx = grab(torch_x)\\nfig, ax = plt.subplots(4,4, dpi=125, figsize=(4,4))\\nfor i in range(4):\\n  for j in range(4):\\n    ind = i*4 + j\\n    ax[i,j].imshow(x[ind], vmin=-1, vmax=1, cmap='viridis')\\n    ax[i,j].axes.xaxis.set_visible(False)\\n    ax[i,j].axes.yaxis.set_visible(False)\\nplt.show()\\n#print(x)\\n\""
            ],
            "application/vnd.google.colaboratory.intrinsic+json": {
              "type": "string"
            }
          },
          "metadata": {},
          "execution_count": 35
        }
      ],
      "source": [
        "'''\n",
        "torch_x, torch_logq = apply_flow_to_prior(prior, layers, batch_size=1024)\n",
        "x = grab(torch_x)\n",
        "fig, ax = plt.subplots(4,4, dpi=125, figsize=(4,4))\n",
        "for i in range(4):\n",
        "  for j in range(4):\n",
        "    ind = i*4 + j\n",
        "    ax[i,j].imshow(x[ind], vmin=-1, vmax=1, cmap='viridis')\n",
        "    ax[i,j].axes.xaxis.set_visible(False)\n",
        "    ax[i,j].axes.yaxis.set_visible(False)\n",
        "plt.show()\n",
        "#print(x)\n",
        "'''"
      ]
    },
    {
      "cell_type": "code",
      "execution_count": 36,
      "metadata": {
        "id": "O8OnAjgISirw",
        "colab": {
          "base_uri": "https://localhost:8080/",
          "height": 87
        },
        "outputId": "e4c65c7e-0415-42a7-cc95-8a1241656d74"
      },
      "outputs": [
        {
          "output_type": "execute_result",
          "data": {
            "text/plain": [
              "\"\\nS_eff = -grab(torch_logq)\\nS = grab(ising_action(torch_x))\\nfit_b = np.mean(S) - np.mean(S_eff)\\nprint(f'slope 1 linear regression S = S_eff + {fit_b:.4f}')\\nfig, ax = plt.subplots(1,1, dpi=125, figsize=(4,4))\\nax.hist2d(S_eff, S, bins=20, range=[[0, 80], [-50, 50]])\\nax.set_xlabel(r'$S_{\\\\mathrm{eff}} = -\\\\log~q(x)$')\\nax.set_ylabel(r'$S(x)$')\\nax.set_aspect('equal')\\nxs = np.linspace(30, 70, num=4, endpoint=True)\\nax.plot(xs, xs + fit_b, ':', color='w', label='slope 1 fit')\\nplt.legend(prop={'size': 6})\\nplt.show()\\n\""
            ],
            "application/vnd.google.colaboratory.intrinsic+json": {
              "type": "string"
            }
          },
          "metadata": {},
          "execution_count": 36
        }
      ],
      "source": [
        "'''\n",
        "S_eff = -grab(torch_logq)\n",
        "S = grab(ising_action(torch_x))\n",
        "fit_b = np.mean(S) - np.mean(S_eff)\n",
        "print(f'slope 1 linear regression S = S_eff + {fit_b:.4f}')\n",
        "fig, ax = plt.subplots(1,1, dpi=125, figsize=(4,4))\n",
        "ax.hist2d(S_eff, S, bins=20, range=[[0, 80], [-50, 50]])\n",
        "ax.set_xlabel(r'$S_{\\mathrm{eff}} = -\\log~q(x)$')\n",
        "ax.set_ylabel(r'$S(x)$')\n",
        "ax.set_aspect('equal')\n",
        "xs = np.linspace(30, 70, num=4, endpoint=True)\n",
        "ax.plot(xs, xs + fit_b, ':', color='w', label='slope 1 fit')\n",
        "plt.legend(prop={'size': 6})\n",
        "plt.show()\n",
        "'''"
      ]
    }
  ],
  "metadata": {
    "colab": {
      "collapsed_sections": [],
      "name": "Copy of Flow based Generative model for continuous spin ising 1",
      "provenance": []
    },
    "kernelspec": {
      "display_name": "Python 3",
      "name": "python3"
    },
    "language_info": {
      "name": "python"
    }
  },
  "nbformat": 4,
  "nbformat_minor": 0
}